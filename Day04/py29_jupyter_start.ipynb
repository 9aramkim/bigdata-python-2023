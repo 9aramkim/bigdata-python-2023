{
 "cells": [
  {
   "attachments": {},
   "cell_type": "markdown",
   "metadata": {},
   "source": [
    "# 주피터 노트북 기본\n",
    "\n",
    "## 셀 추가 / 삭제\n",
    "코드버튼 클릭 - Python 코드 셀 추가\n",
    "Markdown버튼 클릭 - 마크다운 셀 추가 "
   ]
  },
  {
   "cell_type": "code",
   "execution_count": 1,
   "metadata": {},
   "outputs": [
    {
     "name": "stdout",
     "output_type": "stream",
     "text": [
      "Hello, Python!\n"
     ]
    }
   ],
   "source": [
    "print('Hello, Python!')"
   ]
  },
  {
   "attachments": {},
   "cell_type": "markdown",
   "metadata": {},
   "source": [
    "# 일반출력\n",
    "```python\n",
    "print('Hello, Python')"
   ]
  },
  {
   "cell_type": "code",
   "execution_count": 3,
   "metadata": {},
   "outputs": [
    {
     "name": "stdout",
     "output_type": "stream",
     "text": [
      "Hi!\n"
     ]
    }
   ],
   "source": [
    "print('Hi!')"
   ]
  },
  {
   "attachments": {},
   "cell_type": "markdown",
   "metadata": {},
   "source": [
    "### 이미지 추가\n",
    "\n",
    "> **인용** 좀 하세요~ 제발\n",
    "\n",
    "<img src=\"https://blog.kakaocdn.net/dn/bEQNqy/btqGfMgXlp2/J4t2RSahhvG55otCINBSc1/img.jpg\" width=\"400\"><br />\n",
    "<img src=\"https://search.pstatic.net/sunny/?src=https%3A%2F%2Fimg-store.theqoo.net%2FbXgIgF.jpg&type=sc960_832\" width=\"400\">\n",
    "\n",
    "---\n",
    "\n",
    "|제목|내용|비고|\n",
    "|:-----|----------:|:----:|\n",
    "|제목1|내용1|비고1|\n",
    "|제목2|내용2|비고2|\n",
    "|제목3|내용3|비고3|\n",
    "|제목4|내용4입니다|비고4입니다|\n",
    "\n",
    "\n"
   ]
  },
  {
   "attachments": {},
   "cell_type": "markdown",
   "metadata": {},
   "source": [
    "### 주피터 노트북 디버깅\n",
    "\n",
    "- 브레이크 포인트(중단점 클릭)\n",
    "- Ctrl + Shift + Alt + Enter\n",
    "    - py 디버깅과 동일(F10, F11)"
   ]
  },
  {
   "cell_type": "code",
   "execution_count": 5,
   "metadata": {},
   "outputs": [
    {
     "ename": "KeyboardInterrupt",
     "evalue": "",
     "output_type": "error",
     "traceback": [
      "\u001b[1;31m---------------------------------------------------------------------------\u001b[0m",
      "\u001b[1;31mKeyboardInterrupt\u001b[0m                         Traceback (most recent call last)",
      "Cell \u001b[1;32mIn[5], line 8\u001b[0m\n\u001b[0;32m      5\u001b[0m     \u001b[39mprint\u001b[39m(\u001b[39m'\u001b[39m\u001b[39m나누기 완료\u001b[39m\u001b[39m'\u001b[39m)\n\u001b[0;32m      6\u001b[0m     \u001b[39mreturn\u001b[39;00m result\n\u001b[1;32m----> 8\u001b[0m \u001b[39mprint\u001b[39m(divide(\u001b[39m7\u001b[39;49m,\u001b[39m0\u001b[39;49m))\n",
      "Cell \u001b[1;32mIn[5], line 4\u001b[0m, in \u001b[0;36mdivide\u001b[1;34m(x, y)\u001b[0m\n\u001b[0;32m      2\u001b[0m \u001b[39mdef\u001b[39;00m \u001b[39mdivide\u001b[39m(x, y):\n\u001b[0;32m      3\u001b[0m     result \u001b[39m=\u001b[39m \u001b[39m'\u001b[39m\u001b[39m'\u001b[39m\n\u001b[1;32m----> 4\u001b[0m     result \u001b[39m=\u001b[39m x \u001b[39m/\u001b[39m\u001b[39m/\u001b[39m y \n\u001b[0;32m      5\u001b[0m     \u001b[39mprint\u001b[39m(\u001b[39m'\u001b[39m\u001b[39m나누기 완료\u001b[39m\u001b[39m'\u001b[39m)\n\u001b[0;32m      6\u001b[0m     \u001b[39mreturn\u001b[39;00m result\n",
      "Cell \u001b[1;32mIn[5], line 4\u001b[0m, in \u001b[0;36mdivide\u001b[1;34m(x, y)\u001b[0m\n\u001b[0;32m      2\u001b[0m \u001b[39mdef\u001b[39;00m \u001b[39mdivide\u001b[39m(x, y):\n\u001b[0;32m      3\u001b[0m     result \u001b[39m=\u001b[39m \u001b[39m'\u001b[39m\u001b[39m'\u001b[39m\n\u001b[1;32m----> 4\u001b[0m     result \u001b[39m=\u001b[39m x \u001b[39m/\u001b[39m\u001b[39m/\u001b[39m y \n\u001b[0;32m      5\u001b[0m     \u001b[39mprint\u001b[39m(\u001b[39m'\u001b[39m\u001b[39m나누기 완료\u001b[39m\u001b[39m'\u001b[39m)\n\u001b[0;32m      6\u001b[0m     \u001b[39mreturn\u001b[39;00m result\n",
      "File \u001b[1;32m~\\AppData\\Roaming\\Python\\Python311\\site-packages\\debugpy\\_vendored\\pydevd\\_pydevd_bundle\\pydevd_frame.py:988\u001b[0m, in \u001b[0;36mPyDBFrame.trace_dispatch\u001b[1;34m(self, frame, event, arg)\u001b[0m\n\u001b[0;32m    986\u001b[0m \u001b[39m# if thread has a suspend flag, we suspend with a busy wait\u001b[39;00m\n\u001b[0;32m    987\u001b[0m \u001b[39mif\u001b[39;00m info\u001b[39m.\u001b[39mpydev_state \u001b[39m==\u001b[39m STATE_SUSPEND:\n\u001b[1;32m--> 988\u001b[0m     \u001b[39mself\u001b[39;49m\u001b[39m.\u001b[39;49mdo_wait_suspend(thread, frame, event, arg)\n\u001b[0;32m    989\u001b[0m     \u001b[39mreturn\u001b[39;00m \u001b[39mself\u001b[39m\u001b[39m.\u001b[39mtrace_dispatch\n\u001b[0;32m    990\u001b[0m \u001b[39melse\u001b[39;00m:\n",
      "File \u001b[1;32m~\\AppData\\Roaming\\Python\\Python311\\site-packages\\debugpy\\_vendored\\pydevd\\_pydevd_bundle\\pydevd_frame.py:165\u001b[0m, in \u001b[0;36mPyDBFrame.do_wait_suspend\u001b[1;34m(self, *args, **kwargs)\u001b[0m\n\u001b[0;32m    164\u001b[0m \u001b[39mdef\u001b[39;00m \u001b[39mdo_wait_suspend\u001b[39m(\u001b[39mself\u001b[39m, \u001b[39m*\u001b[39margs, \u001b[39m*\u001b[39m\u001b[39m*\u001b[39mkwargs):\n\u001b[1;32m--> 165\u001b[0m     \u001b[39mself\u001b[39;49m\u001b[39m.\u001b[39;49m_args[\u001b[39m0\u001b[39;49m]\u001b[39m.\u001b[39;49mdo_wait_suspend(\u001b[39m*\u001b[39;49margs, \u001b[39m*\u001b[39;49m\u001b[39m*\u001b[39;49mkwargs)\n",
      "File \u001b[1;32m~\\AppData\\Roaming\\Python\\Python311\\site-packages\\debugpy\\_vendored\\pydevd\\pydevd.py:2070\u001b[0m, in \u001b[0;36mPyDB.do_wait_suspend\u001b[1;34m(self, thread, frame, event, arg, exception_type)\u001b[0m\n\u001b[0;32m   2067\u001b[0m             from_this_thread\u001b[39m.\u001b[39mappend(frame_custom_thread_id)\n\u001b[0;32m   2069\u001b[0m     \u001b[39mwith\u001b[39;00m \u001b[39mself\u001b[39m\u001b[39m.\u001b[39m_threads_suspended_single_notification\u001b[39m.\u001b[39mnotify_thread_suspended(thread_id, thread, stop_reason):\n\u001b[1;32m-> 2070\u001b[0m         keep_suspended \u001b[39m=\u001b[39m \u001b[39mself\u001b[39;49m\u001b[39m.\u001b[39;49m_do_wait_suspend(thread, frame, event, arg, suspend_type, from_this_thread, frames_tracker)\n\u001b[0;32m   2072\u001b[0m frames_list \u001b[39m=\u001b[39m \u001b[39mNone\u001b[39;00m\n\u001b[0;32m   2074\u001b[0m \u001b[39mif\u001b[39;00m keep_suspended:\n\u001b[0;32m   2075\u001b[0m     \u001b[39m# This means that we should pause again after a set next statement.\u001b[39;00m\n",
      "File \u001b[1;32m~\\AppData\\Roaming\\Python\\Python311\\site-packages\\debugpy\\_vendored\\pydevd\\pydevd.py:2106\u001b[0m, in \u001b[0;36mPyDB._do_wait_suspend\u001b[1;34m(self, thread, frame, event, arg, suspend_type, from_this_thread, frames_tracker)\u001b[0m\n\u001b[0;32m   2103\u001b[0m         \u001b[39mself\u001b[39m\u001b[39m.\u001b[39m_call_input_hook()\n\u001b[0;32m   2105\u001b[0m     \u001b[39mself\u001b[39m\u001b[39m.\u001b[39mprocess_internal_commands()\n\u001b[1;32m-> 2106\u001b[0m     time\u001b[39m.\u001b[39msleep(\u001b[39m0.01\u001b[39m)\n\u001b[0;32m   2108\u001b[0m \u001b[39mself\u001b[39m\u001b[39m.\u001b[39mcancel_async_evaluation(get_current_thread_id(thread), \u001b[39mstr\u001b[39m(\u001b[39mid\u001b[39m(frame)))\n\u001b[0;32m   2110\u001b[0m \u001b[39m# process any stepping instructions\u001b[39;00m\n",
      "\u001b[1;31mKeyboardInterrupt\u001b[0m: "
     ]
    }
   ],
   "source": [
    "# 나누기 함수\n",
    "def divide(x, y):\n",
    "    result = ''\n",
    "    result = x // y \n",
    "    print('나누기 완료')\n",
    "    return result\n",
    "\n",
    "print(divide(7,0))"
   ]
  },
  {
   "attachments": {},
   "cell_type": "markdown",
   "metadata": {},
   "source": [
    "### 출력 python과 차이점\n",
    "\n",
    "변수 출력할때\n",
    "- 변수명만 입력 후 실행 결과출력\n",
    "- print()도 출력\n",
    "    - 단, 변수만 쓸때는 제일 마지막 변수만 출력\n",
    "    - 여러번 출력하고 싶으면 print()사용할 것\n",
    "    - 하지만, 변수를 그냥 출력할 떄와 print() 출력때랑 결과 다름"
   ]
  },
  {
   "cell_type": "code",
   "execution_count": null,
   "metadata": {},
   "outputs": [],
   "source": [
    "a = 'Hello, Python!'\n",
    "a"
   ]
  },
  {
   "attachments": {},
   "cell_type": "markdown",
   "metadata": {},
   "source": [
    "#### 경로 문제 해결\n",
    "\n",
    ".py에서의 파일 경로와 .ipynb 경로가 다름\n",
    ".py : ./Day04/dummy_members.csv   \n",
    ".ipynb : ./dummy_members.csv\n"
   ]
  },
  {
   "cell_type": "code",
   "execution_count": 6,
   "metadata": {},
   "outputs": [
    {
     "data": {
      "text/html": [
       "<div>\n",
       "<style scoped>\n",
       "    .dataframe tbody tr th:only-of-type {\n",
       "        vertical-align: middle;\n",
       "    }\n",
       "\n",
       "    .dataframe tbody tr th {\n",
       "        vertical-align: top;\n",
       "    }\n",
       "\n",
       "    .dataframe thead th {\n",
       "        text-align: right;\n",
       "    }\n",
       "</style>\n",
       "<table border=\"1\" class=\"dataframe\">\n",
       "  <thead>\n",
       "    <tr style=\"text-align: right;\">\n",
       "      <th></th>\n",
       "      <th>Unnamed: 0</th>\n",
       "      <th>이름</th>\n",
       "      <th>우편번호</th>\n",
       "      <th>주소</th>\n",
       "      <th>전화번호</th>\n",
       "      <th>이메일</th>\n",
       "    </tr>\n",
       "  </thead>\n",
       "  <tbody>\n",
       "    <tr>\n",
       "      <th>0</th>\n",
       "      <td>0</td>\n",
       "      <td>박지훈</td>\n",
       "      <td>50215</td>\n",
       "      <td>광주광역시 강북구 반포대가</td>\n",
       "      <td>018-914-7327</td>\n",
       "      <td>byeongceolo@example.com</td>\n",
       "    </tr>\n",
       "    <tr>\n",
       "      <th>1</th>\n",
       "      <td>1</td>\n",
       "      <td>이수민</td>\n",
       "      <td>92805</td>\n",
       "      <td>대구광역시 성동구 가락로 (영순이동)</td>\n",
       "      <td>044-205-7303</td>\n",
       "      <td>iyeongceol@example.org</td>\n",
       "    </tr>\n",
       "    <tr>\n",
       "      <th>2</th>\n",
       "      <td>2</td>\n",
       "      <td>이서영</td>\n",
       "      <td>52545</td>\n",
       "      <td>충청북도 당진시 학동거리</td>\n",
       "      <td>054-591-1074</td>\n",
       "      <td>yeongja49@example.com</td>\n",
       "    </tr>\n",
       "    <tr>\n",
       "      <th>3</th>\n",
       "      <td>3</td>\n",
       "      <td>이상현</td>\n",
       "      <td>46282</td>\n",
       "      <td>부산광역시 용산구 테헤란6가 (민석김동)</td>\n",
       "      <td>019-074-2547</td>\n",
       "      <td>gyeongsubag@example.net</td>\n",
       "    </tr>\n",
       "    <tr>\n",
       "      <th>4</th>\n",
       "      <td>4</td>\n",
       "      <td>홍종수</td>\n",
       "      <td>93419</td>\n",
       "      <td>울산광역시 동작구 석촌호수91로</td>\n",
       "      <td>018-629-6647</td>\n",
       "      <td>ihayun@example.net</td>\n",
       "    </tr>\n",
       "    <tr>\n",
       "      <th>5</th>\n",
       "      <td>5</td>\n",
       "      <td>이진우</td>\n",
       "      <td>30782</td>\n",
       "      <td>울산광역시 서대문구 개포8가</td>\n",
       "      <td>043-812-1141</td>\n",
       "      <td>hyeonuno@example.net</td>\n",
       "    </tr>\n",
       "    <tr>\n",
       "      <th>6</th>\n",
       "      <td>6</td>\n",
       "      <td>강상현</td>\n",
       "      <td>22878</td>\n",
       "      <td>대전광역시 광진구 역삼7가 (경희박이마을)</td>\n",
       "      <td>02-7545-6152</td>\n",
       "      <td>iyeongil@example.com</td>\n",
       "    </tr>\n",
       "    <tr>\n",
       "      <th>7</th>\n",
       "      <td>7</td>\n",
       "      <td>송성진</td>\n",
       "      <td>90728</td>\n",
       "      <td>서울특별시 노원구 논현397길</td>\n",
       "      <td>044-814-7298</td>\n",
       "      <td>myeongsug32@example.com</td>\n",
       "    </tr>\n",
       "    <tr>\n",
       "      <th>8</th>\n",
       "      <td>8</td>\n",
       "      <td>김서연</td>\n",
       "      <td>89304</td>\n",
       "      <td>세종특별자치시 강남구 압구정가</td>\n",
       "      <td>042-813-3080</td>\n",
       "      <td>seongmin19@example.com</td>\n",
       "    </tr>\n",
       "    <tr>\n",
       "      <th>9</th>\n",
       "      <td>9</td>\n",
       "      <td>이진우</td>\n",
       "      <td>12453</td>\n",
       "      <td>대구광역시 구로구 선릉70로 (현정김한면)</td>\n",
       "      <td>016-931-0056</td>\n",
       "      <td>yeongsig29@example.net</td>\n",
       "    </tr>\n",
       "  </tbody>\n",
       "</table>\n",
       "</div>"
      ],
      "text/plain": [
       "   Unnamed: 0   이름   우편번호                       주소          전화번호  \\\n",
       "0           0  박지훈  50215           광주광역시 강북구 반포대가  018-914-7327   \n",
       "1           1  이수민  92805     대구광역시 성동구 가락로 (영순이동)  044-205-7303   \n",
       "2           2  이서영  52545            충청북도 당진시 학동거리  054-591-1074   \n",
       "3           3  이상현  46282   부산광역시 용산구 테헤란6가 (민석김동)  019-074-2547   \n",
       "4           4  홍종수  93419        울산광역시 동작구 석촌호수91로  018-629-6647   \n",
       "5           5  이진우  30782          울산광역시 서대문구 개포8가  043-812-1141   \n",
       "6           6  강상현  22878  대전광역시 광진구 역삼7가 (경희박이마을)  02-7545-6152   \n",
       "7           7  송성진  90728         서울특별시 노원구 논현397길  044-814-7298   \n",
       "8           8  김서연  89304         세종특별자치시 강남구 압구정가  042-813-3080   \n",
       "9           9  이진우  12453  대구광역시 구로구 선릉70로 (현정김한면)  016-931-0056   \n",
       "\n",
       "                       이메일  \n",
       "0  byeongceolo@example.com  \n",
       "1   iyeongceol@example.org  \n",
       "2    yeongja49@example.com  \n",
       "3  gyeongsubag@example.net  \n",
       "4       ihayun@example.net  \n",
       "5     hyeonuno@example.net  \n",
       "6     iyeongil@example.com  \n",
       "7  myeongsug32@example.com  \n",
       "8   seongmin19@example.com  \n",
       "9   yeongsig29@example.net  "
      ]
     },
     "execution_count": 6,
     "metadata": {},
     "output_type": "execute_result"
    }
   ],
   "source": [
    "import pandas as pd\n",
    "\n",
    "df = pd.read_csv('./dummy_members.csv') # 주의점! 주피터노트북에서는 같은 폴더에 파일을 읽을 때\n",
    "df"
   ]
  },
  {
   "cell_type": "code",
   "execution_count": 7,
   "metadata": {},
   "outputs": [
    {
     "data": {
      "text/plain": [
       "'c:\\\\Source\\\\bigdata-python-2023\\\\Day04'"
      ]
     },
     "execution_count": 7,
     "metadata": {},
     "output_type": "execute_result"
    }
   ],
   "source": [
    "import os\n",
    "\n",
    "os.getcwd()"
   ]
  },
  {
   "attachments": {},
   "cell_type": "markdown",
   "metadata": {},
   "source": [
    "### 출력초과 문제\n",
    "\n",
    "콘솔이나 주피터 셀출력 전체가 다 안나오는 현상(성능적 문제때문에 제약)"
   ]
  },
  {
   "cell_type": "code",
   "execution_count": 9,
   "metadata": {},
   "outputs": [
    {
     "name": "stdout",
     "output_type": "stream",
     "text": [
      "     Unnamed: 0   이름   우편번호                       주소          전화번호  \\\n",
      "0             0  이현주  15897          충청남도 인제군 서초대59가  044-806-2244   \n",
      "1             1  나지영   9047    서울특별시 북구 영동대가 (준호김남동)  044-341-0437   \n",
      "2             2  김지민   9515         강원도 수원시 영통구 서초대로  061-642-6180   \n",
      "3             3  박우진   4994    전라북도 평택시 서초대가 (재호김주읍)  018-035-7933   \n",
      "4             4  김은경  99770         경기도 수원시 권선구 압구정가  018-962-1516   \n",
      "..          ...  ...    ...                      ...           ...   \n",
      "995         995  최명자  35694  광주광역시 동대문구 서초대7가 (윤서장면)  042-021-0513   \n",
      "996         996  김혜진  85419              경기도 당진시 언주로  011-443-2808   \n",
      "997         997  황미정  48428          강원도 부천시 서초대753길  051-451-1063   \n",
      "998         998  박영자  37826          인천광역시 강남구 학동52길  032-478-6025   \n",
      "999         999  김은지   1786    충청남도 여주시 잠실58가 (상훈이동)  041-435-3729   \n",
      "\n",
      "                          이메일  \n",
      "0        jiminyun@example.net  \n",
      "1     donghyeon07@example.org  \n",
      "2          ijihye@example.net  \n",
      "3     gimmigyeong@example.org  \n",
      "4            ugim@example.net  \n",
      "..                        ...  \n",
      "995  ganghyeonsug@example.org  \n",
      "996     minseog98@example.org  \n",
      "997    jangeunseo@example.org  \n",
      "998          qbag@example.com  \n",
      "999        jieunu@example.org  \n",
      "\n",
      "[1000 rows x 6 columns]\n"
     ]
    }
   ],
   "source": [
    "data = pd.read_csv('./dummy_members3.csv', encoding='utf-8')\n",
    "print(data)"
   ]
  }
 ],
 "metadata": {
  "kernelspec": {
   "display_name": "Python 3",
   "language": "python",
   "name": "python3"
  },
  "language_info": {
   "codemirror_mode": {
    "name": "ipython",
    "version": 3
   },
   "file_extension": ".py",
   "mimetype": "text/x-python",
   "name": "python",
   "nbconvert_exporter": "python",
   "pygments_lexer": "ipython3",
   "version": "3.11.4"
  },
  "orig_nbformat": 4,
  "vscode": {
   "interpreter": {
    "hash": "5238573367df39f7286bb46f9ff5f08f63a01a80960060ce41e3c79b190280fa"
   }
  }
 },
 "nbformat": 4,
 "nbformat_minor": 2
}
