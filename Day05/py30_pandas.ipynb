{
 "cells": [
  {
   "attachments": {},
   "cell_type": "markdown",
   "metadata": {},
   "source": [
    "### Pandas 기초\n",
    "\n",
    "#### pandas란?\n",
    "\n",
    "엑셀과 같은 테이블형태로 데이터를 다루는 파이썬 라이브러리(모듈)\n",
    "\n",
    "데이터 분석을 위한 추상자료구조(DataFrame)를 제공하는 데이터 분석도구\n",
    "- 엑셀/CSV 데이터 읽어오기 \n",
    "- 데이터 처리\n",
    "- 엑셀/CSV 데이터 저장하기\n",
    "\n",
    "##### Pandas 용어\n",
    "- DataFrame, Series\n",
    "- Index, Columns, Values, (x,y) Series\n",
    "\n",
    "##### 판다스 설치\n",
    "pip install pandas (콘솔)\n",
    "! pip install pandas (노트북)"
   ]
  },
  {
   "cell_type": "code",
   "execution_count": 1,
   "metadata": {},
   "outputs": [
    {
     "name": "stdout",
     "output_type": "stream",
     "text": [
      "Requirement already satisfied: pandas in c:\\program files\\python311\\lib\\site-packages (2.0.2)\n",
      "Requirement already satisfied: python-dateutil>=2.8.2 in c:\\program files\\python311\\lib\\site-packages (from pandas) (2.8.2)\n",
      "Requirement already satisfied: pytz>=2020.1 in c:\\program files\\python311\\lib\\site-packages (from pandas) (2023.3)\n",
      "Requirement already satisfied: tzdata>=2022.1 in c:\\program files\\python311\\lib\\site-packages (from pandas) (2023.3)\n",
      "Requirement already satisfied: numpy>=1.21.0 in c:\\program files\\python311\\lib\\site-packages (from pandas) (1.25.0)\n",
      "Requirement already satisfied: six>=1.5 in c:\\program files\\python311\\lib\\site-packages (from python-dateutil>=2.8.2->pandas) (1.16.0)\n"
     ]
    }
   ],
   "source": [
    "!pip install pandas"
   ]
  },
  {
   "attachments": {},
   "cell_type": "markdown",
   "metadata": {},
   "source": [
    "##### 설치된 패키지 확인"
   ]
  },
  {
   "cell_type": "code",
   "execution_count": 2,
   "metadata": {},
   "outputs": [
    {
     "name": "stdout",
     "output_type": "stream",
     "text": [
      "Package           Version\n",
      "----------------- -------\n",
      "asttokens         2.2.1\n",
      "backcall          0.2.0\n",
      "colorama          0.4.6\n",
      "comm              0.1.3\n",
      "debugpy           1.6.7\n",
      "decorator         5.1.1\n",
      "executing         1.2.0\n",
      "Faker             18.11.1\n",
      "ipykernel         6.23.2\n",
      "ipython           8.14.0\n",
      "jedi              0.18.2\n",
      "jupyter_client    8.2.0\n",
      "jupyter_core      5.3.1\n",
      "matplotlib-inline 0.1.6\n",
      "nest-asyncio      1.5.6\n",
      "numpy             1.25.0\n",
      "packaging         23.1\n",
      "pandas            2.0.2\n",
      "parso             0.8.3\n",
      "pickleshare       0.7.5\n",
      "pip               23.1.2\n",
      "platformdirs      3.7.0\n",
      "prompt-toolkit    3.0.38\n",
      "psutil            5.9.5\n",
      "pure-eval         0.2.2\n",
      "Pygments          2.15.1\n",
      "python-dateutil   2.8.2\n",
      "pytz              2023.3\n",
      "pywin32           306\n",
      "pyzmq             25.1.0\n",
      "setuptools        65.5.0\n",
      "six               1.16.0\n",
      "stack-data        0.6.2\n",
      "tornado           6.3.2\n",
      "traitlets         5.9.0\n",
      "tzdata            2023.3\n",
      "wcwidth           0.2.6\n"
     ]
    }
   ],
   "source": [
    "!pip list"
   ]
  },
  {
   "cell_type": "code",
   "execution_count": null,
   "metadata": {},
   "outputs": [],
   "source": [
    "# 시리즈 생성\n",
    "grade = pd.Series(data['길동이', 90, 50, 75, 100], index=['이름','국어','영어','수학','미술'])"
   ]
  },
  {
   "cell_type": "code",
   "execution_count": null,
   "metadata": {},
   "outputs": [],
   "source": [
    "# 시리즈 출력\n",
    "grade"
   ]
  },
  {
   "cell_type": "code",
   "execution_count": 3,
   "metadata": {},
   "outputs": [
    {
     "ename": "NameError",
     "evalue": "name 'grade' is not defined",
     "output_type": "error",
     "traceback": [
      "\u001b[1;31m---------------------------------------------------------------------------\u001b[0m",
      "\u001b[1;31mNameError\u001b[0m                                 Traceback (most recent call last)",
      "Cell \u001b[1;32mIn[3], line 2\u001b[0m\n\u001b[0;32m      1\u001b[0m \u001b[39m# 시리즈 인덱스 출력\u001b[39;00m\n\u001b[1;32m----> 2\u001b[0m grade\u001b[39m.\u001b[39mindex\n",
      "\u001b[1;31mNameError\u001b[0m: name 'grade' is not defined"
     ]
    }
   ],
   "source": [
    "# 시리즈 인덱스 출력\n",
    "grade.index"
   ]
  },
  {
   "cell_type": "code",
   "execution_count": null,
   "metadata": {},
   "outputs": [],
   "source": [
    "# 시리즈 값 출력\n",
    "grade.values"
   ]
  },
  {
   "attachments": {},
   "cell_type": "markdown",
   "metadata": {},
   "source": [
    "##### 딕셔너리를 시리즈로 변경\n",
    "\n",
    "파이썬 자료구조를 판다스에서 쓸 수 있는 형태로 변경해줘야 분석가능(데이터 전환)"
   ]
  },
  {
   "cell_type": "code",
   "execution_count": null,
   "metadata": {},
   "outputs": [],
   "source": [
    "original = {\"이름\":\"길순이\",\"국어\":100, \"영어\":100, \"수학\":100, \"미술\":30}\n",
    "print(f'original 타입 : {type(original)}')\n",
    "\n",
    "# 판다스 시리즈로 변경\n",
    "grade2 = pd.Series(data=original) # 시리즈 생성자\n",
    "print(f'grade2 타입 : {type(grade2)}')\n",
    "grade2"
   ]
  }
 ],
 "metadata": {
  "kernelspec": {
   "display_name": "Python 3",
   "language": "python",
   "name": "python3"
  },
  "language_info": {
   "codemirror_mode": {
    "name": "ipython",
    "version": 3
   },
   "file_extension": ".py",
   "mimetype": "text/x-python",
   "name": "python",
   "nbconvert_exporter": "python",
   "pygments_lexer": "ipython3",
   "version": "3.11.4"
  },
  "orig_nbformat": 4,
  "vscode": {
   "interpreter": {
    "hash": "5238573367df39f7286bb46f9ff5f08f63a01a80960060ce41e3c79b190280fa"
   }
  }
 },
 "nbformat": 4,
 "nbformat_minor": 2
}
